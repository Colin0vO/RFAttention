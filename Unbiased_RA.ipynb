{
 "cells": [
  {
   "cell_type": "code",
   "execution_count": 18,
   "id": "c7df7c58",
   "metadata": {},
   "outputs": [],
   "source": [
    "import torch\n",
    "import numpy as np\n",
    "\n",
    "# 1) Load your q0 and k0 from the provided files\n",
    "q_full = torch.load(\"subset_qk/block_1_q_proj_batch_6.pt\")\n",
    "k_full = torch.load(\"subset_qk/block_1_k_proj_batch_6.pt\")\n",
    "q = q_full[0]\n",
    "k = k_full[0]\n",
    "L, d_model = q.shape\n",
    "num_heads = 32\n",
    "d_head = d_model // num_heads\n",
    "\n",
    "# Extract head 15\n",
    "q0 = q.view(L, num_heads, d_head).permute(1, 0, 2)[15]\n",
    "k0 = k.view(L, num_heads, d_head).permute(1, 0, 2)[15]\n",
    "# Normalize as per the paper\n",
    "q0 = q0 / (128**0.25)\n",
    "k0 = k0 / (128**0.25)\n",
    "\n",
    "# Convert to NumPy\n",
    "q0_np = q0.cpu().numpy()\n",
    "k0_np = k0.cpu().numpy()\n",
    "V_np = (3 * q0 + 4* k0) /10"
   ]
  },
  {
   "cell_type": "markdown",
   "id": "6c9db0cc",
   "metadata": {},
   "source": [
    "# Method1: Unbiased Implementation"
   ]
  },
  {
   "cell_type": "code",
   "execution_count": 19,
   "id": "6fddade5",
   "metadata": {},
   "outputs": [
    {
     "name": "stdout",
     "output_type": "stream",
     "text": [
      "alpha_approx.shape: (4096, 4096)\n",
      "out_approx.shape:   (4096, 128)\n"
     ]
    }
   ],
   "source": [
    "import numpy as np\n",
    "\n",
    "def random_feature_attention(Q, K, V, D=20000, seed=42):\n",
    "    \"\"\"\n",
    "    Approximate softmax-attention using D random‐feature samples.\n",
    "    Q: (L, d), K: (L, d), V: (L, dv)\n",
    "    Returns:\n",
    "      alpha_hat: (L, L)    approximate attention weights\n",
    "      out:       (L, dv)   approximate attended outputs\n",
    "    \"\"\"\n",
    "    rng = np.random.RandomState(seed)\n",
    "    L, d = Q.shape\n",
    "\n",
    "    # 1) draw random weights W ~ N(0,1), shape (D, d)\n",
    "    W = rng.randn(D, d)  # (D, d)\n",
    "\n",
    "    # 2) compute features φ_Q and φ_K:\n",
    "    #    φ(x) = exp(x·Wᵀ − ½‖x‖²) / √D\n",
    "    Q2 = np.sum(Q*Q, axis=1, keepdims=True)   # (L,1)\n",
    "    K2 = np.sum(K*K, axis=1, keepdims=True)   # (L,1)\n",
    "    phi_Q = np.exp(Q.dot(W.T) - 0.5*Q2) / np.sqrt(D)  # (L, D)\n",
    "    phi_K = np.exp(K.dot(W.T) - 0.5*K2) / np.sqrt(D)  # (L, D)\n",
    "\n",
    "    # 3) approximate kernel: φ_Q φ_Kᵀ ≈ exp(Q Kᵀ)\n",
    "    A_hat = phi_Q.dot(phi_K.T)                # (L, L)\n",
    "\n",
    "    # 4) row‐normalize to get weights\n",
    "    alpha_hat = A_hat / A_hat.sum(axis=1, keepdims=True)  # (L, L)\n",
    "\n",
    "    # 5) attended outputs\n",
    "    out = alpha_hat.dot(V)                    # (L, dv)\n",
    "    return alpha_hat, out\n",
    "\n",
    "# ────────────────────────────────────────────────────────\n",
    "# Usage:\n",
    "# (make sure q0_np, k0_np are already NumPy arrays in your session)\n",
    "\n",
    "D_features = 20000\n",
    "alpha_approx, out_approx = random_feature_attention(\n",
    "    q0_np, k0_np, V_np, D=D_features, seed=0\n",
    ")\n",
    "\n",
    "print(\"alpha_approx.shape:\", alpha_approx.shape)  # → (4096, 4096)\n",
    "print(\"out_approx.shape:  \", out_approx.shape)    # → (4096, 128)\n"
   ]
  },
  {
   "cell_type": "code",
   "execution_count": 20,
   "id": "0265b701",
   "metadata": {},
   "outputs": [
    {
     "name": "stdout",
     "output_type": "stream",
     "text": [
      "alpha_full.shape: (4096, 4096)\n",
      "out_full.shape:   (4096, 128)\n"
     ]
    }
   ],
   "source": [
    "import numpy as np\n",
    "import torch  # only for loading your .pt files\n",
    "\n",
    "\n",
    "\n",
    "# 2) Exact softmax-attention (NumPy vectorized)\n",
    "scores = q0_np.dot(k0_np.T)                          # (4096,4096)\n",
    "exp_scores = np.exp(scores - scores.max(axis=1, keepdims=True))\n",
    "alpha_full = exp_scores / exp_scores.sum(axis=1, keepdims=True)  # (4096,4096)\n",
    "out_full = alpha_full.dot(V_np)                  # (4096,128)\n",
    "\n",
    "print(\"alpha_full.shape:\", alpha_full.shape)    # -> (4096,4096)\n",
    "print(\"out_full.shape:  \", out_full.shape)      # -> (4096,128)\n"
   ]
  },
  {
   "cell_type": "code",
   "execution_count": 23,
   "id": "137a94d8",
   "metadata": {},
   "outputs": [
    {
     "data": {
      "text/plain": [
       "2.7916740583049093"
      ]
     },
     "execution_count": 23,
     "metadata": {},
     "output_type": "execute_result"
    }
   ],
   "source": [
    "np.linalg.norm(alpha_full - alpha_approx) / np.linalg.norm(alpha_full)"
   ]
  },
  {
   "cell_type": "code",
   "execution_count": null,
   "id": "5ef4784d",
   "metadata": {},
   "outputs": [
    {
     "data": {
      "text/plain": [
       "137.0"
      ]
     },
     "execution_count": 15,
     "metadata": {},
     "output_type": "execute_result"
    }
   ],
   "source": [
    "np.linalg.norm(out_full)"
   ]
  },
  {
   "cell_type": "code",
   "execution_count": 24,
   "id": "2b9068f8",
   "metadata": {},
   "outputs": [
    {
     "data": {
      "text/plain": [
       "0.2713716779893449"
      ]
     },
     "execution_count": 24,
     "metadata": {},
     "output_type": "execute_result"
    }
   ],
   "source": [
    "np.linalg.norm(out_approx - out_full) / np.linalg.norm(out_full)"
   ]
  },
  {
   "cell_type": "code",
   "execution_count": null,
   "id": "0cc43940",
   "metadata": {},
   "outputs": [
    {
     "data": {
      "text/plain": [
       "137.0"
      ]
     },
     "execution_count": 17,
     "metadata": {},
     "output_type": "execute_result"
    }
   ],
   "source": [
    "np.linalg.norm(out_full)"
   ]
  }
 ],
 "metadata": {
  "kernelspec": {
   "display_name": "base",
   "language": "python",
   "name": "python3"
  },
  "language_info": {
   "codemirror_mode": {
    "name": "ipython",
    "version": 3
   },
   "file_extension": ".py",
   "mimetype": "text/x-python",
   "name": "python",
   "nbconvert_exporter": "python",
   "pygments_lexer": "ipython3",
   "version": "3.10.13"
  }
 },
 "nbformat": 4,
 "nbformat_minor": 5
}
